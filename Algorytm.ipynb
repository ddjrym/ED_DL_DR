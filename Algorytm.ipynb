{
 "cells": [
  {
   "cell_type": "markdown",
   "metadata": {
    "toc": "true"
   },
   "source": [
    "# Table of Contents\n",
    " <p>"
   ]
  },
  {
   "cell_type": "code",
   "execution_count": 43,
   "metadata": {
    "ExecuteTime": {
     "end_time": "2017-12-04T22:40:36.752322Z",
     "start_time": "2017-12-04T22:40:36.738307Z"
    }
   },
   "outputs": [],
   "source": [
    "import numpy as np\n",
    "from sklearn.svm import SVC\n",
    "from matplotlib import pyplot as plt\n",
    "%matplotlib tk"
   ]
  },
  {
   "cell_type": "code",
   "execution_count": 81,
   "metadata": {
    "ExecuteTime": {
     "end_time": "2017-12-04T22:56:34.741270Z",
     "start_time": "2017-12-04T22:56:34.568496Z"
    }
   },
   "outputs": [
    {
     "data": {
      "text/plain": [
       "<matplotlib.collections.PathCollection at 0x7f0374a92940>"
      ]
     },
     "execution_count": 81,
     "metadata": {},
     "output_type": "execute_result"
    }
   ],
   "source": [
    "#GENERATING DATA\n",
    "x1 = []\n",
    "y1 = []\n",
    "x2 = []\n",
    "y2 = []\n",
    "X1 = np.zeros((3010, ))\n",
    "X2 = np.zeros((3010, ))\n",
    "for i in range(0,1000):\n",
    "    angle = np.random.uniform(0,1)*(np.pi*2)\n",
    "    x1.append(np.cos(angle)* np.random.uniform(0,1))\n",
    "    y1.append(np.sin(angle)* np.random.uniform(0,1))\n",
    "    \n",
    "    x2.append(np.cos(angle)* np.random.uniform(0.8,2))\n",
    "    y2.append(np.sin(angle)* np.random.uniform(0.8,2))\n",
    "    x2.append(np.cos(angle)* np.random.uniform(0.5,0.8))\n",
    "    y2.append(np.sin(angle)* np.random.uniform(0.5,0.8))\n",
    "for i in range(0,10):\n",
    "    angle = np.random.uniform(0,1)*(np.pi*2)\n",
    "    x2.append(np.cos(angle)* np.random.uniform(0,0.1))\n",
    "    y2.append(np.sin(angle)* np.random.uniform(0,0.1))\n",
    "X1[:1000] = x1\n",
    "X1[1000:] = x2\n",
    "X2[:1000] = y1\n",
    "X2[1000:] = y2\n",
    "X = np.asarray([X1, X2])\n",
    "y = np.zeros((3010))\n",
    "y[1000:] += 1\n",
    "plt.scatter(X[0, :],X[1, :], c=y)"
   ]
  },
  {
   "cell_type": "code",
   "execution_count": 88,
   "metadata": {
    "ExecuteTime": {
     "end_time": "2017-12-04T22:57:35.213668Z",
     "start_time": "2017-12-04T22:57:35.210911Z"
    }
   },
   "outputs": [],
   "source": [
    "# initialize algorithm\n",
    "svm_rbf = SVC(kernel='rbf')\n",
    "svm_lin = SVC(kernel='rbf', class_weight='balanced')"
   ]
  },
  {
   "cell_type": "code",
   "execution_count": 92,
   "metadata": {
    "ExecuteTime": {
     "end_time": "2017-12-04T22:58:43.943183Z",
     "start_time": "2017-12-04T22:58:43.611887Z"
    }
   },
   "outputs": [],
   "source": [
    "# fitting\n",
    "svm_rbf.fit(X.transpose(), y)\n",
    "pred_unweight = svm_rbf.predict(X.transpose())"
   ]
  },
  {
   "cell_type": "code",
   "execution_count": 93,
   "metadata": {
    "ExecuteTime": {
     "end_time": "2017-12-04T22:58:44.463616Z",
     "start_time": "2017-12-04T22:58:44.121987Z"
    }
   },
   "outputs": [],
   "source": [
    "# fitting\n",
    "svm_lin.fit(X.transpose(), y)\n",
    "pred_weight = svm_lin.predict(X.transpose())"
   ]
  },
  {
   "cell_type": "code",
   "execution_count": 95,
   "metadata": {
    "ExecuteTime": {
     "end_time": "2017-12-04T22:58:57.331031Z",
     "start_time": "2017-12-04T22:58:57.146476Z"
    }
   },
   "outputs": [
    {
     "data": {
      "text/plain": [
       "<matplotlib.collections.PathCollection at 0x7f03748496a0>"
      ]
     },
     "execution_count": 95,
     "metadata": {},
     "output_type": "execute_result"
    }
   ],
   "source": [
    "# plotting\n",
    "plt.subplot(131)\n",
    "plt.scatter(X[0, :],X[1, :], c=y)\n",
    "plt.subplot(132)\n",
    "plt.scatter(X[0, :],X[1, :], c=pred_unweight)\n",
    "plt.subplot(133)\n",
    "plt.scatter(X[0, :],X[1, :], c=pred_weight)"
   ]
  }
 ],
 "metadata": {
  "kernelspec": {
   "display_name": "Python 3",
   "language": "python",
   "name": "python3"
  },
  "language_info": {
   "codemirror_mode": {
    "name": "ipython",
    "version": 3
   },
   "file_extension": ".py",
   "mimetype": "text/x-python",
   "name": "python",
   "nbconvert_exporter": "python",
   "pygments_lexer": "ipython3",
   "version": "3.5.2"
  },
  "toc": {
   "colors": {
    "hover_highlight": "#DAA520",
    "navigate_num": "#000000",
    "navigate_text": "#333333",
    "running_highlight": "#FF0000",
    "selected_highlight": "#FFD700",
    "sidebar_border": "#EEEEEE",
    "wrapper_background": "#FFFFFF"
   },
   "moveMenuLeft": true,
   "nav_menu": {
    "height": "4px",
    "width": "254px"
   },
   "navigate_menu": true,
   "number_sections": true,
   "sideBar": true,
   "skip_h1_title": true,
   "threshold": 4,
   "toc_cell": true,
   "toc_section_display": "block",
   "toc_window_display": true,
   "widenNotebook": false
  },
  "varInspector": {
   "cols": {
    "lenName": 16,
    "lenType": 16,
    "lenVar": 40
   },
   "kernels_config": {
    "python": {
     "delete_cmd_postfix": "",
     "delete_cmd_prefix": "del ",
     "library": "var_list.py",
     "varRefreshCmd": "print(var_dic_list())"
    },
    "r": {
     "delete_cmd_postfix": ") ",
     "delete_cmd_prefix": "rm(",
     "library": "var_list.r",
     "varRefreshCmd": "cat(var_dic_list()) "
    }
   },
   "types_to_exclude": [
    "module",
    "function",
    "builtin_function_or_method",
    "instance",
    "_Feature"
   ],
   "window_display": false
  }
 },
 "nbformat": 4,
 "nbformat_minor": 2
}
